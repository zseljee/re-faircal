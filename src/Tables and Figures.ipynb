{
 "cells": [
  {
   "cell_type": "code",
   "execution_count": null,
   "id": "0ed9095c",
   "metadata": {
    "scrolled": false
   },
   "outputs": [],
   "source": [
    "from tables_and_figures import *"
   ]
  },
  {
   "cell_type": "code",
   "execution_count": null,
   "id": "0e523de3",
   "metadata": {},
   "outputs": [],
   "source": [
    "metrics = get_metrics()"
   ]
  },
  {
   "cell_type": "code",
   "execution_count": null,
   "id": "acc7ffa7",
   "metadata": {},
   "outputs": [],
   "source": [
    "# get_metrics uses defaultdicts to prevent key errors, so this is a bit of a hacky way\n",
    "# to tell which results are genuine and which are 0 by default.\n",
    "print(\"Available experiments:\")\n",
    "print(\"\\n\".join(str(conf) for conf in metrics if 'score' in metrics[conf]))"
   ]
  },
  {
   "cell_type": "code",
   "execution_count": null,
   "id": "0bc60aa6",
   "metadata": {},
   "outputs": [],
   "source": [
    "gen_table_accuracy(metrics)"
   ]
  },
  {
   "cell_type": "code",
   "execution_count": null,
   "id": "d86457b7",
   "metadata": {},
   "outputs": [],
   "source": [
    "gen_table_fairness(metrics)\n",
    "gen_table_fairness(metrics, full=False)"
   ]
  },
  {
   "cell_type": "code",
   "execution_count": null,
   "id": "65ce3c37",
   "metadata": {},
   "outputs": [],
   "source": [
    "gen_table_predictive_equality(metrics)\n",
    "# Add the following thing to the 1st, 2nd, 4th and 5th pbox, because they overlap otherwise...\n",
    "# \\rule[-6pt]{0pt}{1mm}\n",
    "# Also, manually remove the metric column because it's only STD anyway\n",
    "gen_table_predictive_equality(metrics, full=False)"
   ]
  },
  {
   "cell_type": "code",
   "execution_count": null,
   "id": "abc8bf5d",
   "metadata": {},
   "outputs": [],
   "source": [
    "gen_plot_scores(metrics)"
   ]
  },
  {
   "cell_type": "code",
   "execution_count": null,
   "id": "403e7eed",
   "metadata": {},
   "outputs": [],
   "source": [
    "gen_plot_fpr(metrics)"
   ]
  },
  {
   "cell_type": "code",
   "execution_count": null,
   "id": "4e326ab9",
   "metadata": {},
   "outputs": [],
   "source": [
    "from extension import main as extension, inspect_cluster"
   ]
  },
  {
   "cell_type": "code",
   "execution_count": null,
   "id": "e582e671",
   "metadata": {},
   "outputs": [],
   "source": [
    "_df, cluster_assignments, idx2path = extension()"
   ]
  },
  {
   "cell_type": "code",
   "execution_count": null,
   "id": "76bc803a",
   "metadata": {},
   "outputs": [],
   "source": [
    "inspect_cluster(cluster_assignments, idx2path, 55, False)"
   ]
  },
  {
   "cell_type": "code",
   "execution_count": null,
   "id": "75e64dea",
   "metadata": {},
   "outputs": [],
   "source": [
    "inspect_cluster(cluster_assignments, idx2path, 85, False)"
   ]
  },
  {
   "cell_type": "code",
   "execution_count": null,
   "id": "60c585cd",
   "metadata": {},
   "outputs": [],
   "source": []
  }
 ],
 "metadata": {
  "kernelspec": {
   "display_name": "mlrc-faircal",
   "language": "python",
   "name": "python3"
  },
  "language_info": {
   "codemirror_mode": {
    "name": "ipython",
    "version": 3
   },
   "file_extension": ".py",
   "mimetype": "text/x-python",
   "name": "python",
   "nbconvert_exporter": "python",
   "pygments_lexer": "ipython3",
   "version": "3.10.9"
  },
  "vscode": {
   "interpreter": {
    "hash": "c335886bcd4218084f5848a8d549480ae814e931047ef55ea8671156fe70050f"
   }
  }
 },
 "nbformat": 4,
 "nbformat_minor": 5
}
